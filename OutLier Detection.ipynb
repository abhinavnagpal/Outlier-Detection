{
 "cells": [
  {
   "cell_type": "code",
   "execution_count": 280,
   "metadata": {},
   "outputs": [],
   "source": [
    "import numpy as np\n",
    "import pandas as pd\n",
    "import matplotlib.pylab as plt\n",
    "%matplotlib inline"
   ]
  },
  {
   "cell_type": "markdown",
   "metadata": {},
   "source": [
    "### 1. Importing dataset (nursery)\n",
    "\n",
    "#### info: \n",
    "- parents:     usual, pretentious, great_pret.\n",
    "- has_nurs:    proper, less_proper, improper, critical, very_crit.\n",
    "- form:        complete, completed, incomplete, foster.\n",
    "- children:    1, 2, 3, more.\n",
    "- housing:     convenient, less_conv, critical.\n",
    "- finance:     convenient, inconv.\n",
    "- social:      nonprob, slightly_prob, problematic.\n",
    "- health:      recommended, priority, not_recom."
   ]
  },
  {
   "cell_type": "code",
   "execution_count": 281,
   "metadata": {},
   "outputs": [],
   "source": [
    "#head = [\"parents\",\"has_nurs\",\"form\",\"children\",\"housing\",\"finance\",\"social\",\"health\",\"decision_class\"]\n",
    "#data = pd.read_table(\"./datasets/nursery.data.txt\",delimiter=',',header=None,names=head,index_col=False)\n",
    "\n",
    "#HTRU2\n",
    "#head = [\"mean_1\",\"sd_1\",\"excess_k_1\",\"skew_1\",\"mean_2\",\"sd_2\",\"excess_k_2\",\"skew_2\",\"class\"]\n",
    "data = pd.read_table(\"./datasets/HTRU2/HTRU_2.csv\",delimiter=',',header=None,index_col=False)\n",
    "data_y=data[:][8]\n",
    "data_x = data.drop(columns=8)\n"
   ]
  },
  {
   "cell_type": "code",
   "execution_count": 282,
   "metadata": {},
   "outputs": [
    {
     "data": {
      "text/html": [
       "<div>\n",
       "<style scoped>\n",
       "    .dataframe tbody tr th:only-of-type {\n",
       "        vertical-align: middle;\n",
       "    }\n",
       "\n",
       "    .dataframe tbody tr th {\n",
       "        vertical-align: top;\n",
       "    }\n",
       "\n",
       "    .dataframe thead th {\n",
       "        text-align: right;\n",
       "    }\n",
       "</style>\n",
       "<table border=\"1\" class=\"dataframe\">\n",
       "  <thead>\n",
       "    <tr style=\"text-align: right;\">\n",
       "      <th></th>\n",
       "      <th>0</th>\n",
       "      <th>1</th>\n",
       "      <th>2</th>\n",
       "      <th>3</th>\n",
       "      <th>4</th>\n",
       "      <th>5</th>\n",
       "      <th>6</th>\n",
       "      <th>7</th>\n",
       "      <th>8</th>\n",
       "    </tr>\n",
       "  </thead>\n",
       "  <tbody>\n",
       "    <tr>\n",
       "      <th>0</th>\n",
       "      <td>140.562500</td>\n",
       "      <td>55.683782</td>\n",
       "      <td>-0.234571</td>\n",
       "      <td>-0.699648</td>\n",
       "      <td>3.199833</td>\n",
       "      <td>19.110426</td>\n",
       "      <td>7.975532</td>\n",
       "      <td>74.242225</td>\n",
       "      <td>0</td>\n",
       "    </tr>\n",
       "    <tr>\n",
       "      <th>1</th>\n",
       "      <td>102.507812</td>\n",
       "      <td>58.882430</td>\n",
       "      <td>0.465318</td>\n",
       "      <td>-0.515088</td>\n",
       "      <td>1.677258</td>\n",
       "      <td>14.860146</td>\n",
       "      <td>10.576487</td>\n",
       "      <td>127.393580</td>\n",
       "      <td>0</td>\n",
       "    </tr>\n",
       "    <tr>\n",
       "      <th>2</th>\n",
       "      <td>103.015625</td>\n",
       "      <td>39.341649</td>\n",
       "      <td>0.323328</td>\n",
       "      <td>1.051164</td>\n",
       "      <td>3.121237</td>\n",
       "      <td>21.744669</td>\n",
       "      <td>7.735822</td>\n",
       "      <td>63.171909</td>\n",
       "      <td>0</td>\n",
       "    </tr>\n",
       "    <tr>\n",
       "      <th>3</th>\n",
       "      <td>136.750000</td>\n",
       "      <td>57.178449</td>\n",
       "      <td>-0.068415</td>\n",
       "      <td>-0.636238</td>\n",
       "      <td>3.642977</td>\n",
       "      <td>20.959280</td>\n",
       "      <td>6.896499</td>\n",
       "      <td>53.593661</td>\n",
       "      <td>0</td>\n",
       "    </tr>\n",
       "    <tr>\n",
       "      <th>4</th>\n",
       "      <td>88.726562</td>\n",
       "      <td>40.672225</td>\n",
       "      <td>0.600866</td>\n",
       "      <td>1.123492</td>\n",
       "      <td>1.178930</td>\n",
       "      <td>11.468720</td>\n",
       "      <td>14.269573</td>\n",
       "      <td>252.567306</td>\n",
       "      <td>0</td>\n",
       "    </tr>\n",
       "  </tbody>\n",
       "</table>\n",
       "</div>"
      ],
      "text/plain": [
       "            0          1         2         3         4          5          6  \\\n",
       "0  140.562500  55.683782 -0.234571 -0.699648  3.199833  19.110426   7.975532   \n",
       "1  102.507812  58.882430  0.465318 -0.515088  1.677258  14.860146  10.576487   \n",
       "2  103.015625  39.341649  0.323328  1.051164  3.121237  21.744669   7.735822   \n",
       "3  136.750000  57.178449 -0.068415 -0.636238  3.642977  20.959280   6.896499   \n",
       "4   88.726562  40.672225  0.600866  1.123492  1.178930  11.468720  14.269573   \n",
       "\n",
       "            7  8  \n",
       "0   74.242225  0  \n",
       "1  127.393580  0  \n",
       "2   63.171909  0  \n",
       "3   53.593661  0  \n",
       "4  252.567306  0  "
      ]
     },
     "execution_count": 282,
     "metadata": {},
     "output_type": "execute_result"
    }
   ],
   "source": [
    "data.head(5)"
   ]
  },
  {
   "cell_type": "markdown",
   "metadata": {},
   "source": [
    "### 2. changing to numerical values\n",
    "- one hot encoding (data_one)\n",
    "- label encoding (data)"
   ]
  },
  {
   "cell_type": "raw",
   "metadata": {},
   "source": [
    "#label encoding\n",
    "cleanup_nums = {\"parents\":     {\"usual\": 0, \"pretentious\": 1,\"great_pret\":2},\n",
    "               \"has_nurs\": {\"proper\":0, \"less_proper\":1, \"improper\":2, \"critical\":3, \"very_crit\":4},\n",
    "                \"form\": {\"complete\":0, \"completed\":1, \"incomplete\":2, \"foster\":3},\"children\":{\"more\":4},\n",
    "                \"housing\":{\"convenient\":0, \"less_conv\":1, \"critical\":2},\n",
    "                \"finance\":{\"convenient\":0, \"inconv\":1},\n",
    "                \"social\":{\"nonprob\":0, \"slightly_prob\":1, \"problematic\":2},\n",
    "                \"health\":{\"recommended\":0, \"priority\":1, \"not_recom\":2},\n",
    "                \"decision_class\":{\"not_recom\":0,\"recommend\":1,\"very_recom\":2,\"priority\":3,\"spec_prior\":4}}\n",
    "#data.replace(cleanup_nums, inplace=True)\n"
   ]
  },
  {
   "cell_type": "markdown",
   "metadata": {},
   "source": [
    "### 3. Normalization\n",
    "- min-max"
   ]
  },
  {
   "cell_type": "code",
   "execution_count": 283,
   "metadata": {},
   "outputs": [],
   "source": [
    "def normalize(data):\n",
    "    k = np.array(data.values)\n",
    "    mini = np.min(k,axis=0)\n",
    "    maxi = np.max(k,axis=0)\n",
    "    k=(k-mini)/(maxi-mini)\n",
    "    return pd.DataFrame(k)"
   ]
  },
  {
   "cell_type": "code",
   "execution_count": 284,
   "metadata": {},
   "outputs": [],
   "source": [
    "#one-hot\n",
    "#data_one = pd.get_dummies(data, columns=head).head()\n",
    "\n",
    "#normalization\n",
    "data_x = normalize(data_x)"
   ]
  },
  {
   "cell_type": "code",
   "execution_count": 285,
   "metadata": {},
   "outputs": [
    {
     "data": {
      "text/html": [
       "<div>\n",
       "<style scoped>\n",
       "    .dataframe tbody tr th:only-of-type {\n",
       "        vertical-align: middle;\n",
       "    }\n",
       "\n",
       "    .dataframe tbody tr th {\n",
       "        vertical-align: top;\n",
       "    }\n",
       "\n",
       "    .dataframe thead th {\n",
       "        text-align: right;\n",
       "    }\n",
       "</style>\n",
       "<table border=\"1\" class=\"dataframe\">\n",
       "  <thead>\n",
       "    <tr style=\"text-align: right;\">\n",
       "      <th></th>\n",
       "      <th>0</th>\n",
       "      <th>1</th>\n",
       "      <th>2</th>\n",
       "      <th>3</th>\n",
       "      <th>4</th>\n",
       "      <th>5</th>\n",
       "      <th>6</th>\n",
       "      <th>7</th>\n",
       "    </tr>\n",
       "  </thead>\n",
       "  <tbody>\n",
       "    <tr>\n",
       "      <th>0</th>\n",
       "      <td>0.721342</td>\n",
       "      <td>0.417687</td>\n",
       "      <td>0.165043</td>\n",
       "      <td>0.015627</td>\n",
       "      <td>0.013382</td>\n",
       "      <td>0.113681</td>\n",
       "      <td>0.294986</td>\n",
       "      <td>0.063890</td>\n",
       "    </tr>\n",
       "    <tr>\n",
       "      <th>1</th>\n",
       "      <td>0.517628</td>\n",
       "      <td>0.460908</td>\n",
       "      <td>0.235415</td>\n",
       "      <td>0.018268</td>\n",
       "      <td>0.006560</td>\n",
       "      <td>0.072524</td>\n",
       "      <td>0.364015</td>\n",
       "      <td>0.108443</td>\n",
       "    </tr>\n",
       "    <tr>\n",
       "      <th>2</th>\n",
       "      <td>0.520346</td>\n",
       "      <td>0.196868</td>\n",
       "      <td>0.221138</td>\n",
       "      <td>0.040677</td>\n",
       "      <td>0.013030</td>\n",
       "      <td>0.139188</td>\n",
       "      <td>0.288624</td>\n",
       "      <td>0.054610</td>\n",
       "    </tr>\n",
       "    <tr>\n",
       "      <th>3</th>\n",
       "      <td>0.700933</td>\n",
       "      <td>0.437884</td>\n",
       "      <td>0.181750</td>\n",
       "      <td>0.016534</td>\n",
       "      <td>0.015368</td>\n",
       "      <td>0.131583</td>\n",
       "      <td>0.266348</td>\n",
       "      <td>0.046581</td>\n",
       "    </tr>\n",
       "    <tr>\n",
       "      <th>4</th>\n",
       "      <td>0.443854</td>\n",
       "      <td>0.214847</td>\n",
       "      <td>0.249044</td>\n",
       "      <td>0.041712</td>\n",
       "      <td>0.004327</td>\n",
       "      <td>0.039684</td>\n",
       "      <td>0.462029</td>\n",
       "      <td>0.213369</td>\n",
       "    </tr>\n",
       "  </tbody>\n",
       "</table>\n",
       "</div>"
      ],
      "text/plain": [
       "          0         1         2         3         4         5         6  \\\n",
       "0  0.721342  0.417687  0.165043  0.015627  0.013382  0.113681  0.294986   \n",
       "1  0.517628  0.460908  0.235415  0.018268  0.006560  0.072524  0.364015   \n",
       "2  0.520346  0.196868  0.221138  0.040677  0.013030  0.139188  0.288624   \n",
       "3  0.700933  0.437884  0.181750  0.016534  0.015368  0.131583  0.266348   \n",
       "4  0.443854  0.214847  0.249044  0.041712  0.004327  0.039684  0.462029   \n",
       "\n",
       "          7  \n",
       "0  0.063890  \n",
       "1  0.108443  \n",
       "2  0.054610  \n",
       "3  0.046581  \n",
       "4  0.213369  "
      ]
     },
     "execution_count": 285,
     "metadata": {},
     "output_type": "execute_result"
    }
   ],
   "source": [
    "data_x.head(5)"
   ]
  },
  {
   "cell_type": "markdown",
   "metadata": {},
   "source": [
    "### 4. Similarity measures and Pruning\n",
    "- Euclidean\n",
    "- manhattan\n",
    "- latent\n",
    "- latice"
   ]
  },
  {
   "cell_type": "code",
   "execution_count": 286,
   "metadata": {},
   "outputs": [],
   "source": [
    "def perform_inner(k,user):\n",
    "    for i in range(len(k)):\n",
    "        if k[i]>user[i]:\n",
    "            k[i]=user[i]\n",
    "    return max(k)\n",
    "\n",
    "def perform_outer(k,user):\n",
    "    for i in range(len(k)):\n",
    "        if k[i]<user[i]:\n",
    "            k[i]=user[i]\n",
    "    return min(k)\n",
    "\n",
    "def lattice(data,user):\n",
    "    k = data.values\n",
    "    final_result = np.zeros(k.shape[0])\n",
    "    for i in range(0,k.shape[0]):\n",
    "        inner_result = perform_inner(k[i],user)\n",
    "        outer_result = perform_outer(k[i],user)\n",
    "        final_result[i] = min(inner_result,(1-outer_result))\n",
    "    return final_result"
   ]
  },
  {
   "cell_type": "code",
   "execution_count": 287,
   "metadata": {},
   "outputs": [
    {
     "name": "stdout",
     "output_type": "stream",
     "text": [
      "(0, 9)\n"
     ]
    }
   ],
   "source": [
    "user = [0.417628,0.410908,0.215415,0.088268,0.026560,0.272524,0.314015,0.148443]\n",
    "threshold = 0.35\n",
    "\n",
    "final_result = lattice(data_x,user)\n",
    "final_result=final_result>threshold\n",
    "data_pruned = data[final_result]\n",
    "print(data_pruned.shape)"
   ]
  },
  {
   "cell_type": "markdown",
   "metadata": {},
   "source": [
    "Outlier Detection\n",
    "\n",
    "## Steps:\n",
    "\n",
    "### 1. Importing dataset (nursery)\n",
    "\n",
    "#### info: \n",
    "- parents:     usual, pretentious, great_pret.\n",
    "- has_nurs:    proper, less_proper, improper, critical, very_crit.\n",
    "- form:        complete, completed, incomplete, foster.\n",
    "- children:    1, 2, 3, more.\n",
    "- housing:     convenient, less_conv, critical.\n",
    "- finance:     convenient, inconv.\n",
    "- social:      nonprob, slightly_prob, problematic.\n",
    "- health:      recommended, priority, not_recom.\n",
    "\n",
    "### 2. changing to numerical values\n",
    "- one hot encoding (data_one)\n",
    "- label encoding (data)\n",
    "\n",
    "### 3. Normalization\n",
    "- min-max\n",
    "\n",
    "### 4. Similarity measures\n",
    "- Euclidean\n",
    "- manhattan\n",
    "- latent\n",
    "- latice\n",
    "\n",
    "### 4. Pruning"
   ]
  },
  {
   "cell_type": "code",
   "execution_count": null,
   "metadata": {},
   "outputs": [],
   "source": []
  }
 ],
 "metadata": {
  "kernelspec": {
   "display_name": "Python 3",
   "language": "python",
   "name": "python3"
  },
  "language_info": {
   "codemirror_mode": {
    "name": "ipython",
    "version": 3
   },
   "file_extension": ".py",
   "mimetype": "text/x-python",
   "name": "python",
   "nbconvert_exporter": "python",
   "pygments_lexer": "ipython3",
   "version": "3.6.5"
  }
 },
 "nbformat": 4,
 "nbformat_minor": 2
}
